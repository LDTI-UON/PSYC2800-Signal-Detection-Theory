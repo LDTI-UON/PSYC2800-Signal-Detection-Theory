{
 "cells": [
  {
   "cell_type": "markdown",
   "id": "8b175acc",
   "metadata": {},
   "source": [
    "# Signal Detection Activity\n",
    "\n",
    "Your task is to consider the following hypothetical measurements of sensory activity and construct distributions of Noise and S+N. \n",
    "\n",
    "1. At first, rank order the observations.\n",
    "2. Arrange the observations in a table within bins of 1 sensory units (0-1, 1-2, 2-3 etc).\n",
    "3. Count how many observations fall within each bin.\n",
    "4. Plot the data as a histogram – with frequency (number of data points per bin) on the y axis, and values of sensory activity (0-1, 1-2, 2-3, …. 8-9, 9-10) on the x axis\n",
    "\n",
    "This notebook uses Matplotlib https://matplotlib.org/stable/users/getting_started/"
   ]
  },
  {
   "cell_type": "code",
   "execution_count": 3,
   "id": "748662bc",
   "metadata": {},
   "outputs": [],
   "source": [
    "import matplotlib.pyplot as plt\n",
    "import numpy as np\n",
    "\n",
    "noise = [2.7586, 3.3192, 3.3129, 2.1351, 2.9699, 2.8351, 3.6277, 4.0933, 4.1093, 2.1363, 3.0774, 1.7859, 1.8865, 2.9932, 4.5326, 2.2303, 3.3714, 2.7744, 4.1174, 1.9109]\n",
    "signalAndNoise = [6.0326, 6.5525, 7.1006, 7.5442, 6.0859, 4.5084, 5.2577, 4.9384, 8.3505, 5.3844, 6.7481, 5.8076, 6.8886, 5.2352, 4.5977, 4.5776, 6.4882, 5.8226, 5.8039, 7.4193]\n",
    "\n",
    "#Complete code here, you can find out how to use Matplotlib on this website"
   ]
  }
 ],
 "metadata": {
  "kernelspec": {
   "display_name": "Python 3 (ipykernel)",
   "language": "python",
   "name": "python3"
  },
  "language_info": {
   "codemirror_mode": {
    "name": "ipython",
    "version": 3
   },
   "file_extension": ".py",
   "mimetype": "text/x-python",
   "name": "python",
   "nbconvert_exporter": "python",
   "pygments_lexer": "ipython3",
   "version": "3.10.6"
  }
 },
 "nbformat": 4,
 "nbformat_minor": 5
}
